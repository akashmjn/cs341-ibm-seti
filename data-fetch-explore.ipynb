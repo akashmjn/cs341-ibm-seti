{
 "cells": [
  {
   "cell_type": "code",
   "execution_count": 2,
   "metadata": {
    "collapsed": false
   },
   "outputs": [
    {
     "name": "stderr",
     "output_type": "stream",
     "text": [
      "Using TensorFlow backend.\n"
     ]
    }
   ],
   "source": [
    "import requests\n",
    "import numpy as np\n",
    "import json\n",
    "import pandas as pd\n",
    "import ibmseti\n",
    "import collections\n",
    "import scipy.io\n",
    "import matplotlib.pyplot as plt\n",
    "import commonutils as cu"
   ]
  },
  {
   "cell_type": "code",
   "execution_count": 2,
   "metadata": {
    "collapsed": true
   },
   "outputs": [],
   "source": [
    "r = requests.get('https://dal.objectstorage.open.softlayer.com/v1/AUTH_cdbef52bdf7a449c96936e1071f0a46b/simsignals_files/public_list_headers_3april_2017.txt')"
   ]
  },
  {
   "cell_type": "code",
   "execution_count": 3,
   "metadata": {
    "collapsed": false
   },
   "outputs": [
    {
     "data": {
      "text/plain": [
       "{u'file_name': u'00069203-0824-4136-9c99-b9f68672f23d.dat',\n",
       " u'signal_classification': u'squigglesquarepulsednarrowband',\n",
       " u'uuid': u'00069203-0824-4136-9c99-b9f68672f23d'}"
      ]
     },
     "execution_count": 3,
     "metadata": {},
     "output_type": "execute_result"
    }
   ],
   "source": [
    "fileList = r.text.split('\\n')[:-1]\n",
    "fileListJSON = [json.loads(entry) for entry in fileList]\n",
    "fileListJSON[0]"
   ]
  },
  {
   "cell_type": "markdown",
   "metadata": {},
   "source": [
    "## Code for downloading a subset of data (skip if not required)"
   ]
  },
  {
   "cell_type": "code",
   "execution_count": 4,
   "metadata": {
    "collapsed": true
   },
   "outputs": [],
   "source": [
    "# Taking a subset of signals to download and play around with\n",
    "subset = dict.fromkeys(list(np.unique([ str(file['signal_classification']) for file in fileListJSON])))\n",
    "for key in subset.keys(): subset[key] = []\n",
    "nSignals = 10\n",
    "i = 0\n",
    "while any( [len(v)<nSignals for v in subset.values()] ):\n",
    "    current = (str(fileListJSON[i]['signal_classification']),str(fileListJSON[i]['file_name']))\n",
    "    if len(subset[current[0]])<nSignals:\n",
    "        subset[current[0]].append(current[1])\n",
    "    i = i + 1"
   ]
  },
  {
   "cell_type": "code",
   "execution_count": 5,
   "metadata": {
    "collapsed": false
   },
   "outputs": [
    {
     "name": "stdout",
     "output_type": "stream",
     "text": [
      "noise\n",
      "squiggle\n",
      "narrowbanddrd\n",
      "brightpixel\n",
      "narrowband\n",
      "squigglesquarepulsednarrowband\n",
      "squarepulsednarrowband\n"
     ]
    }
   ],
   "source": [
    "# For each type, download all files, and extract and save complex signal and spectrogram\n",
    "base_url = 'https://dal.objectstorage.open.softlayer.com/v1/AUTH_cdbef52bdf7a449c96936e1071f0a46b'\n",
    "container = 'simsignals'\n",
    "\n",
    "subsetComplexSignals = collections.defaultdict(list)\n",
    "subsetSpectrograms = collections.defaultdict(list)\n",
    "\n",
    "for (signalType,signalList) in subset.items():\n",
    "    print signalType\n",
    "    for fname in signalList:\n",
    "        r = requests.get('{}/{}/{}'.format(base_url,container,fname))\n",
    "        aca = ibmseti.compamp.SimCompamp(r.content)\n",
    "        subsetComplexSignals[signalType].append(aca.complex_data().reshape(129,6144))\n",
    "        subsetSpectrograms[signalType].append(aca.get_spectrogram())"
   ]
  },
  {
   "cell_type": "code",
   "execution_count": 6,
   "metadata": {
    "collapsed": true
   },
   "outputs": [],
   "source": [
    "# Saving numpy files \n",
    "np.save('complexSignalsSubset.npy',subsetComplexSignals)\n",
    "np.save('specSubset.npy',subsetSpectrograms)\n",
    "\n",
    "# Saving to separate matlab files for each signal type\n",
    "# for key in subset.keys():\n",
    "#     a = np.stack(subsetComplexSignals[key])\n",
    "#     b = np.stack(subsetSpectrograms[key])\n",
    "#     scipy.io.savemat('{}{}'.format(key,'Signal.mat'),{'{}{}'.format(key,'Signal'):a})\n",
    "#     scipy.io.savemat('{}{}'.format(key,'Spec.mat'),{'{}{}'.format(key,'Spec'):b})"
   ]
  },
  {
   "cell_type": "markdown",
   "metadata": {},
   "source": [
    "### Loading saved npy files"
   ]
  },
  {
   "cell_type": "code",
   "execution_count": 7,
   "metadata": {
    "collapsed": false
   },
   "outputs": [],
   "source": [
    "# Loading in saved sample data files \n",
    "subsetComplexSignals = np.load('complexSignalsSubset.npy')[()]\n",
    "subsetSpectrograms = np.load('specSubset.npy')[()]"
   ]
  },
  {
   "cell_type": "markdown",
   "metadata": {},
   "source": [
    "## Downloading and saving all files to local "
   ]
  },
  {
   "cell_type": "code",
   "execution_count": 5,
   "metadata": {
    "collapsed": false
   },
   "outputs": [
    {
     "name": "stdout",
     "output_type": "stream",
     "text": [
      "{'noise': 0, 'squiggle': 5, 'narrowbanddrd': 3, 'brightpixel': 1, 'narrowband': 2, 'squigglesquarepulsednarrowband': 6, 'squarepulsednarrowband': 4}\n"
     ]
    },
    {
     "data": {
      "text/html": [
       "<div>\n",
       "<table border=\"1\" class=\"dataframe\">\n",
       "  <thead>\n",
       "    <tr style=\"text-align: right;\">\n",
       "      <th></th>\n",
       "      <th>file_name</th>\n",
       "      <th>signal_classification</th>\n",
       "      <th>uuid</th>\n",
       "      <th>file_index</th>\n",
       "      <th>label</th>\n",
       "    </tr>\n",
       "  </thead>\n",
       "  <tbody>\n",
       "    <tr>\n",
       "      <th>0</th>\n",
       "      <td>00069203-0824-4136-9c99-b9f68672f23d.dat</td>\n",
       "      <td>squigglesquarepulsednarrowband</td>\n",
       "      <td>00069203-0824-4136-9c99-b9f68672f23d</td>\n",
       "      <td>000000</td>\n",
       "      <td>6</td>\n",
       "    </tr>\n",
       "    <tr>\n",
       "      <th>1</th>\n",
       "      <td>000739aa-89d6-4965-abf6-9b46a246604a.dat</td>\n",
       "      <td>narrowband</td>\n",
       "      <td>000739aa-89d6-4965-abf6-9b46a246604a</td>\n",
       "      <td>000001</td>\n",
       "      <td>2</td>\n",
       "    </tr>\n",
       "    <tr>\n",
       "      <th>2</th>\n",
       "      <td>000874dd-8d6e-44b1-8ade-21aeb5a29546.dat</td>\n",
       "      <td>narrowbanddrd</td>\n",
       "      <td>000874dd-8d6e-44b1-8ade-21aeb5a29546</td>\n",
       "      <td>000002</td>\n",
       "      <td>3</td>\n",
       "    </tr>\n",
       "    <tr>\n",
       "      <th>3</th>\n",
       "      <td>0009073c-4032-4b84-832a-9b81fc3b0df8.dat</td>\n",
       "      <td>brightpixel</td>\n",
       "      <td>0009073c-4032-4b84-832a-9b81fc3b0df8</td>\n",
       "      <td>000003</td>\n",
       "      <td>1</td>\n",
       "    </tr>\n",
       "    <tr>\n",
       "      <th>4</th>\n",
       "      <td>000c28b3-aeba-4f18-ac60-b91341921264.dat</td>\n",
       "      <td>squigglesquarepulsednarrowband</td>\n",
       "      <td>000c28b3-aeba-4f18-ac60-b91341921264</td>\n",
       "      <td>000004</td>\n",
       "      <td>6</td>\n",
       "    </tr>\n",
       "    <tr>\n",
       "      <th>5</th>\n",
       "      <td>000eb18b-326f-4488-9f07-b7382c01bf91.dat</td>\n",
       "      <td>narrowband</td>\n",
       "      <td>000eb18b-326f-4488-9f07-b7382c01bf91</td>\n",
       "      <td>000005</td>\n",
       "      <td>2</td>\n",
       "    </tr>\n",
       "    <tr>\n",
       "      <th>6</th>\n",
       "      <td>00126c99-d882-4b4f-a308-618c1b5c2613.dat</td>\n",
       "      <td>squiggle</td>\n",
       "      <td>00126c99-d882-4b4f-a308-618c1b5c2613</td>\n",
       "      <td>000006</td>\n",
       "      <td>5</td>\n",
       "    </tr>\n",
       "    <tr>\n",
       "      <th>7</th>\n",
       "      <td>00187356-1b8e-48e2-a2e9-b3983983d2f1.dat</td>\n",
       "      <td>squigglesquarepulsednarrowband</td>\n",
       "      <td>00187356-1b8e-48e2-a2e9-b3983983d2f1</td>\n",
       "      <td>000007</td>\n",
       "      <td>6</td>\n",
       "    </tr>\n",
       "    <tr>\n",
       "      <th>8</th>\n",
       "      <td>001d473c-be64-4411-8a3d-7f7160f94de4.dat</td>\n",
       "      <td>squigglesquarepulsednarrowband</td>\n",
       "      <td>001d473c-be64-4411-8a3d-7f7160f94de4</td>\n",
       "      <td>000008</td>\n",
       "      <td>6</td>\n",
       "    </tr>\n",
       "    <tr>\n",
       "      <th>9</th>\n",
       "      <td>001f3507-f359-4822-8d16-b7320caf2a9e.dat</td>\n",
       "      <td>squarepulsednarrowband</td>\n",
       "      <td>001f3507-f359-4822-8d16-b7320caf2a9e</td>\n",
       "      <td>000009</td>\n",
       "      <td>4</td>\n",
       "    </tr>\n",
       "    <tr>\n",
       "      <th>10</th>\n",
       "      <td>002193db-6f0e-4e2a-a7a4-6fc038a1b2a7.dat</td>\n",
       "      <td>squigglesquarepulsednarrowband</td>\n",
       "      <td>002193db-6f0e-4e2a-a7a4-6fc038a1b2a7</td>\n",
       "      <td>000010</td>\n",
       "      <td>6</td>\n",
       "    </tr>\n",
       "  </tbody>\n",
       "</table>\n",
       "</div>"
      ],
      "text/plain": [
       "                                   file_name           signal_classification  \\\n",
       "0   00069203-0824-4136-9c99-b9f68672f23d.dat  squigglesquarepulsednarrowband   \n",
       "1   000739aa-89d6-4965-abf6-9b46a246604a.dat                      narrowband   \n",
       "2   000874dd-8d6e-44b1-8ade-21aeb5a29546.dat                   narrowbanddrd   \n",
       "3   0009073c-4032-4b84-832a-9b81fc3b0df8.dat                     brightpixel   \n",
       "4   000c28b3-aeba-4f18-ac60-b91341921264.dat  squigglesquarepulsednarrowband   \n",
       "5   000eb18b-326f-4488-9f07-b7382c01bf91.dat                      narrowband   \n",
       "6   00126c99-d882-4b4f-a308-618c1b5c2613.dat                        squiggle   \n",
       "7   00187356-1b8e-48e2-a2e9-b3983983d2f1.dat  squigglesquarepulsednarrowband   \n",
       "8   001d473c-be64-4411-8a3d-7f7160f94de4.dat  squigglesquarepulsednarrowband   \n",
       "9   001f3507-f359-4822-8d16-b7320caf2a9e.dat          squarepulsednarrowband   \n",
       "10  002193db-6f0e-4e2a-a7a4-6fc038a1b2a7.dat  squigglesquarepulsednarrowband   \n",
       "\n",
       "                                    uuid file_index  label  \n",
       "0   00069203-0824-4136-9c99-b9f68672f23d     000000      6  \n",
       "1   000739aa-89d6-4965-abf6-9b46a246604a     000001      2  \n",
       "2   000874dd-8d6e-44b1-8ade-21aeb5a29546     000002      3  \n",
       "3   0009073c-4032-4b84-832a-9b81fc3b0df8     000003      1  \n",
       "4   000c28b3-aeba-4f18-ac60-b91341921264     000004      6  \n",
       "5   000eb18b-326f-4488-9f07-b7382c01bf91     000005      2  \n",
       "6   00126c99-d882-4b4f-a308-618c1b5c2613     000006      5  \n",
       "7   00187356-1b8e-48e2-a2e9-b3983983d2f1     000007      6  \n",
       "8   001d473c-be64-4411-8a3d-7f7160f94de4     000008      6  \n",
       "9   001f3507-f359-4822-8d16-b7320caf2a9e     000009      4  \n",
       "10  002193db-6f0e-4e2a-a7a4-6fc038a1b2a7     000010      6  "
      ]
     },
     "execution_count": 5,
     "metadata": {},
     "output_type": "execute_result"
    }
   ],
   "source": [
    "# Create a data frame with all the file info\n",
    "fileListTuples = [(str(j['file_name']),str(j['signal_classification']),str(j['uuid'])) for j in fileListJSON]\n",
    "fileListDF = pd.DataFrame.from_records(fileListTuples,columns=[\"file_name\",\"signal_classification\",\"uuid\"])\n",
    "# Creating a file index. Will use this for filenames for easier reference\n",
    "fileListDF['file_index'] = fileListDF.index\n",
    "fileListDF['file_index'] = fileListDF.file_index.apply(lambda x: str.zfill(str(x),6) )\n",
    "## Assigning numbers to classes\n",
    "labelMap = {'noise':0,'brightpixel':1,'narrowband':2,\n",
    "            'narrowbanddrd':3,'squarepulsednarrowband':4,'squiggle':5,'squigglesquarepulsednarrowband':6}\n",
    "fileListDF[\"label\"] = fileListDF[\"signal_classification\"].apply(lambda x: labelMap[x])\n",
    "print labelMap\n",
    "#fileListDF.to_csv(\"fileList.csv\",index=False)\n",
    "fileListDF.ix[0:10]"
   ]
  },
  {
   "cell_type": "code",
   "execution_count": 7,
   "metadata": {
    "collapsed": false
   },
   "outputs": [],
   "source": [
    "# Function: input - JSON line with url, output - spectrogram array\n",
    "def downloadSaveSignalData(DFrow,base_url,container,data_path):\n",
    "    # Access file via HTTP method\n",
    "    fname = DFrow['file_name']\n",
    "    print \"\\r{}\".format(DFrow[\"file_index\"]),\n",
    "    r = requests.get('{}/{}/{}'.format(base_url, container, fname))   \n",
    "    aca = ibmseti.compamp.SimCompamp(r.content)\n",
    "    np.save(\"{}/{}.npy\".format(data_path,DFrow['file_index']),aca.get_spectrogram()) "
   ]
  },
  {
   "cell_type": "code",
   "execution_count": null,
   "metadata": {
    "collapsed": true
   },
   "outputs": [],
   "source": [
    "base_url = 'https://dal.objectstorage.open.softlayer.com/v1/AUTH_cdbef52bdf7a449c96936e1071f0a46b'\n",
    "container = 'simsignals'\n",
    "data_path = \"data/specdataraw\"\n",
    "### Iterate through fileListDF and run generateSpectrogram to save each file to local as .npy file\n",
    "### Use file_index for filename\n",
    "temp = fileListDF.apply(downloadSaveSignalData,axis=1,args=(base_url,container,data_path))\n",
    "del temp"
   ]
  },
  {
   "cell_type": "markdown",
   "metadata": {},
   "source": [
    "## Downloading BASIC 4 dataset"
   ]
  },
  {
   "cell_type": "code",
   "execution_count": 5,
   "metadata": {
    "collapsed": false
   },
   "outputs": [
    {
     "name": "stdout",
     "output_type": "stream",
     "text": [
      "{'narrowbanddrd': 2, 'narrowband': 1, 'noise': 0, 'squiggle': 3}\n"
     ]
    },
    {
     "data": {
      "text/html": [
       "<div>\n",
       "<table border=\"1\" class=\"dataframe\">\n",
       "  <thead>\n",
       "    <tr style=\"text-align: right;\">\n",
       "      <th></th>\n",
       "      <th>file_name</th>\n",
       "      <th>uuid</th>\n",
       "      <th>file_index</th>\n",
       "      <th>label</th>\n",
       "    </tr>\n",
       "    <tr>\n",
       "      <th>signal_classification</th>\n",
       "      <th></th>\n",
       "      <th></th>\n",
       "      <th></th>\n",
       "      <th></th>\n",
       "    </tr>\n",
       "  </thead>\n",
       "  <tbody>\n",
       "    <tr>\n",
       "      <th>narrowband</th>\n",
       "      <td>250</td>\n",
       "      <td>250</td>\n",
       "      <td>250</td>\n",
       "      <td>250</td>\n",
       "    </tr>\n",
       "    <tr>\n",
       "      <th>narrowbanddrd</th>\n",
       "      <td>250</td>\n",
       "      <td>250</td>\n",
       "      <td>250</td>\n",
       "      <td>250</td>\n",
       "    </tr>\n",
       "    <tr>\n",
       "      <th>noise</th>\n",
       "      <td>250</td>\n",
       "      <td>250</td>\n",
       "      <td>250</td>\n",
       "      <td>250</td>\n",
       "    </tr>\n",
       "    <tr>\n",
       "      <th>squiggle</th>\n",
       "      <td>250</td>\n",
       "      <td>250</td>\n",
       "      <td>250</td>\n",
       "      <td>250</td>\n",
       "    </tr>\n",
       "  </tbody>\n",
       "</table>\n",
       "</div>"
      ],
      "text/plain": [
       "                       file_name  uuid  file_index  label\n",
       "signal_classification                                    \n",
       "narrowband                   250   250         250    250\n",
       "narrowbanddrd                250   250         250    250\n",
       "noise                        250   250         250    250\n",
       "squiggle                     250   250         250    250"
      ]
     },
     "execution_count": 5,
     "metadata": {},
     "output_type": "execute_result"
    }
   ],
   "source": [
    "# Get file list\n",
    "r = requests.get('https://dal.objectstorage.open.softlayer.com/v1/\\\n",
    "AUTH_cdbef52bdf7a449c96936e1071f0a46b/simsignals_files/public_list_basic_headers_1may_2017.txt')\n",
    "fileList = r.text.split('\\n')[:-1]\n",
    "fileListJSON = [json.loads(entry) for entry in fileList]\n",
    "\n",
    "# Create a data frame with all the file info\n",
    "fileListTuples = [(str(j['file_name']),str(j['signal_classification']),str(j['uuid'])) for j in fileListJSON]\n",
    "fileListDF = pd.DataFrame.from_records(fileListTuples,columns=[\"file_name\",\"signal_classification\",\"uuid\"])\n",
    "# Creating a file index. Will use this for filenames for easier reference\n",
    "fileListDF['file_index'] = fileListDF.index\n",
    "fileListDF['file_index'] = fileListDF.file_index.apply(lambda x: str.zfill(str(x),6) )\n",
    "## Assigning numbers to classes\n",
    "labelMap = {'noise':0,'narrowband':1,'narrowbanddrd':2,'squiggle':3}\n",
    "fileListDF[\"label\"] = fileListDF[\"signal_classification\"].apply(lambda x: labelMap[x])\n",
    "print labelMap\n",
    "#fileListDF.to_csv(\"fileList_basic4.csv\",index=False)\n",
    "fileListDF.groupby('signal_classification').agg('count')"
   ]
  },
  {
   "cell_type": "code",
   "execution_count": 6,
   "metadata": {
    "collapsed": false
   },
   "outputs": [
    {
     "name": "stdout",
     "output_type": "stream",
     "text": [
      "000999\n"
     ]
    }
   ],
   "source": [
    "base_url = 'https://dal.objectstorage.open.softlayer.com/v1/AUTH_cdbef52bdf7a449c96936e1071f0a46b'\n",
    "container = 'simsignals_basic'\n",
    "data_path = \"data/specdataraw_basic4\"\n",
    "### Iterate through fileListDF and run generateSpectrogram to save each file to local as .npy file\n",
    "### Use file_index for filename\n",
    "temp = fileListDF.apply(downloadSaveSignalData,axis=1,args=(base_url,container,data_path))\n",
    "del temp"
   ]
  },
  {
   "cell_type": "code",
   "execution_count": 4,
   "metadata": {
    "collapsed": false
   },
   "outputs": [
    {
     "data": {
      "text/html": [
       "<div>\n",
       "<table border=\"1\" class=\"dataframe\">\n",
       "  <thead>\n",
       "    <tr style=\"text-align: right;\">\n",
       "      <th></th>\n",
       "      <th>file_name</th>\n",
       "      <th>uuid</th>\n",
       "      <th>file_index</th>\n",
       "      <th>label</th>\n",
       "    </tr>\n",
       "    <tr>\n",
       "      <th>signal_classification</th>\n",
       "      <th></th>\n",
       "      <th></th>\n",
       "      <th></th>\n",
       "      <th></th>\n",
       "    </tr>\n",
       "  </thead>\n",
       "  <tbody>\n",
       "    <tr>\n",
       "      <th>narrowband</th>\n",
       "      <td>250</td>\n",
       "      <td>250</td>\n",
       "      <td>250</td>\n",
       "      <td>250</td>\n",
       "    </tr>\n",
       "    <tr>\n",
       "      <th>narrowbanddrd</th>\n",
       "      <td>250</td>\n",
       "      <td>250</td>\n",
       "      <td>250</td>\n",
       "      <td>250</td>\n",
       "    </tr>\n",
       "    <tr>\n",
       "      <th>noise</th>\n",
       "      <td>250</td>\n",
       "      <td>250</td>\n",
       "      <td>250</td>\n",
       "      <td>250</td>\n",
       "    </tr>\n",
       "    <tr>\n",
       "      <th>squiggle</th>\n",
       "      <td>250</td>\n",
       "      <td>250</td>\n",
       "      <td>250</td>\n",
       "      <td>250</td>\n",
       "    </tr>\n",
       "  </tbody>\n",
       "</table>\n",
       "</div>"
      ],
      "text/plain": [
       "                       file_name  uuid  file_index  label\n",
       "signal_classification                                    \n",
       "narrowband                   250   250         250    250\n",
       "narrowbanddrd                250   250         250    250\n",
       "noise                        250   250         250    250\n",
       "squiggle                     250   250         250    250"
      ]
     },
     "execution_count": 4,
     "metadata": {},
     "output_type": "execute_result"
    }
   ],
   "source": [
    "fileListDF.groupby('signal_classification').agg('count')"
   ]
  },
  {
   "cell_type": "code",
   "execution_count": null,
   "metadata": {
    "collapsed": true
   },
   "outputs": [],
   "source": []
  }
 ],
 "metadata": {
  "anaconda-cloud": {},
  "kernelspec": {
   "display_name": "Python [default]",
   "language": "python",
   "name": "python2"
  },
  "language_info": {
   "codemirror_mode": {
    "name": "ipython",
    "version": 2
   },
   "file_extension": ".py",
   "mimetype": "text/x-python",
   "name": "python",
   "nbconvert_exporter": "python",
   "pygments_lexer": "ipython2",
   "version": "2.7.12"
  }
 },
 "nbformat": 4,
 "nbformat_minor": 2
}

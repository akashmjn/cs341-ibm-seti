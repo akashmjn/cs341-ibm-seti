{
 "cells": [
  {
   "cell_type": "code",
   "execution_count": 1,
   "metadata": {},
   "outputs": [
    {
     "name": "stderr",
     "output_type": "stream",
     "text": [
      "Using TensorFlow backend.\n"
     ]
    }
   ],
   "source": [
    "import os,sys\n",
    "sys.path.append(\"..\")\n",
    "import numpy as np\n",
    "import pandas as pd\n",
    "import ibmseti\n",
    "import collections\n",
    "import scipy.io\n",
    "import matplotlib.pyplot as plt\n",
    "import commonutils as cu\n",
    "import PIL\n",
    "from PIL import Image"
   ]
  },
  {
   "cell_type": "code",
   "execution_count": 2,
   "metadata": {
    "collapsed": true
   },
   "outputs": [],
   "source": [
    "import keras\n",
    "from keras import backend as K\n",
    "K.set_image_dim_ordering('tf')\n",
    "from keras.applications.vgg16 import VGG16\n",
    "from keras.preprocessing import image\n",
    "from keras.applications.vgg16 import preprocess_input\n",
    "from keras.models import Model"
   ]
  },
  {
   "cell_type": "code",
   "execution_count": 3,
   "metadata": {
    "collapsed": true
   },
   "outputs": [],
   "source": [
    "from keras.optimizers import SGD\n",
    "from keras.preprocessing.image import ImageDataGenerator, load_img, img_to_array\n",
    "from model_specs import vgg_fine_tune"
   ]
  },
  {
   "cell_type": "code",
   "execution_count": 4,
   "metadata": {
    "collapsed": true
   },
   "outputs": [],
   "source": [
    "# Might want to tune these parameters\n",
    "train_datagen = ImageDataGenerator(featurewise_center=True,featurewise_std_normalization=True,\n",
    "                                   rotation_range=0, width_shift_range=0.2,\n",
    "                                   height_shift_range=0.1,zoom_range=0.1,\n",
    "                                   horizontal_flip=True, vertical_flip = True, fill_mode='constant')\n",
    "test_datagen = ImageDataGenerator(featurewise_center=True,featurewise_std_normalization=True)\n",
    "\n",
    "# # Create a sample dataset array for fitting whitening / normalization parameters\n",
    "# #(linux command for putting all images in one place) \n",
    "# # find train -name '*.jpg' -type f -exec cp {} . \\;\n",
    "trainImgDir = '../data/imagesDataset_512x256_8/train_one_folder/'\n",
    "files = [f for f in os.listdir(trainImgDir) if f.endswith('.jpg')]\n",
    "size = img_to_array(load_img(os.path.join(trainImgDir,files[0]),grayscale=False)).shape"
   ]
  },
  {
   "cell_type": "code",
   "execution_count": 5,
   "metadata": {},
   "outputs": [
    {
     "name": "stdout",
     "output_type": "stream",
     "text": [
      "(256, 512, 3)\n"
     ]
    }
   ],
   "source": [
    "print size"
   ]
  },
  {
   "cell_type": "code",
   "execution_count": 6,
   "metadata": {},
   "outputs": [
    {
     "name": "stderr",
     "output_type": "stream",
     "text": [
      "model_specs.py:33: UserWarning: Update your `Dense` call to the Keras 2 API: `Dense(1024, kernel_initializer=\"he_normal\", activation=\"relu\", input_shape=(65536,))`\n",
      "  activation='relu',init=\"he_normal\"))\n",
      "model_specs.py:36: UserWarning: Update your `Dense` call to the Keras 2 API: `Dense(256, kernel_initializer=\"he_normal\", activation=\"relu\")`\n",
      "  model.add(Dense(256,activation='relu',init=\"he_normal\"))\n",
      "model_specs.py:39: UserWarning: Update your `Dense` call to the Keras 2 API: `Dense(256, kernel_initializer=\"he_normal\", activation=\"relu\")`\n",
      "  model.add(Dense(256,activation='relu',init=\"he_normal\"))\n"
     ]
    },
    {
     "name": "stdout",
     "output_type": "stream",
     "text": [
      "_________________________________________________________________\n",
      "Layer (type)                 Output Shape              Param #   \n",
      "=================================================================\n",
      "input_1 (InputLayer)         (None, 256, 512, 3)       0         \n",
      "_________________________________________________________________\n",
      "block1_conv1 (Conv2D)        (None, 256, 512, 64)      1792      \n",
      "_________________________________________________________________\n",
      "block1_conv2 (Conv2D)        (None, 256, 512, 64)      36928     \n",
      "_________________________________________________________________\n",
      "block1_pool (MaxPooling2D)   (None, 128, 256, 64)      0         \n",
      "_________________________________________________________________\n",
      "block2_conv1 (Conv2D)        (None, 128, 256, 128)     73856     \n",
      "_________________________________________________________________\n",
      "block2_conv2 (Conv2D)        (None, 128, 256, 128)     147584    \n",
      "_________________________________________________________________\n",
      "block2_pool (MaxPooling2D)   (None, 64, 128, 128)      0         \n",
      "_________________________________________________________________\n",
      "block3_conv1 (Conv2D)        (None, 64, 128, 256)      295168    \n",
      "_________________________________________________________________\n",
      "block3_conv2 (Conv2D)        (None, 64, 128, 256)      590080    \n",
      "_________________________________________________________________\n",
      "block3_conv3 (Conv2D)        (None, 64, 128, 256)      590080    \n",
      "_________________________________________________________________\n",
      "block3_pool (MaxPooling2D)   (None, 32, 64, 256)       0         \n",
      "_________________________________________________________________\n",
      "block4_conv1 (Conv2D)        (None, 32, 64, 512)       1180160   \n",
      "_________________________________________________________________\n",
      "block4_conv2 (Conv2D)        (None, 32, 64, 512)       2359808   \n",
      "_________________________________________________________________\n",
      "block4_conv3 (Conv2D)        (None, 32, 64, 512)       2359808   \n",
      "_________________________________________________________________\n",
      "block4_pool (MaxPooling2D)   (None, 16, 32, 512)       0         \n",
      "_________________________________________________________________\n",
      "block5_conv1 (Conv2D)        (None, 16, 32, 512)       2359808   \n",
      "_________________________________________________________________\n",
      "block5_conv2 (Conv2D)        (None, 16, 32, 512)       2359808   \n",
      "_________________________________________________________________\n",
      "block5_conv3 (Conv2D)        (None, 16, 32, 512)       2359808   \n",
      "_________________________________________________________________\n",
      "block5_pool (MaxPooling2D)   (None, 8, 16, 512)        0         \n",
      "_________________________________________________________________\n",
      "flatten_1 (Flatten)          (None, 65536)             0         \n",
      "_________________________________________________________________\n",
      "sequential_1 (Sequential)    (None, 4)                 67445252  \n",
      "=================================================================\n",
      "Total params: 82,159,940\n",
      "Trainable params: 74,521,604\n",
      "Non-trainable params: 7,638,336\n",
      "_________________________________________________________________\n",
      "None\n"
     ]
    }
   ],
   "source": [
    "model = vgg_fine_tune.build(input_shape= (size[0],size[1],size[2]),nb_classes=4)"
   ]
  },
  {
   "cell_type": "code",
   "execution_count": 7,
   "metadata": {
    "collapsed": true
   },
   "outputs": [],
   "source": [
    "model.compile(loss='categorical_crossentropy',\n",
    "              optimizer=SGD(lr=1e-3, decay=1e-6, momentum=0.9, nesterov=True),\n",
    "              metrics=['accuracy'])\n",
    "# model.fit(train_data, train_labels,\n",
    "#           epochs=50,\n",
    "#           batch_size=batch_size,\n",
    "#           validation_data=(validation_data, validation_labels))"
   ]
  },
  {
   "cell_type": "code",
   "execution_count": 8,
   "metadata": {},
   "outputs": [
    {
     "name": "stdout",
     "output_type": "stream",
     "text": [
      "Found 7584 images belonging to 4 classes.\n",
      "Found 1498 images belonging to 4 classes.\n"
     ]
    }
   ],
   "source": [
    "trainDataArray = np.zeros((len(files)//5,)+size) # Only 1/10 the data, because memory constraints\n",
    "for i in range(len(files)//5):\n",
    "    trainDataArray[i] = img_to_array(load_img(os.path.join(trainImgDir,files[i])))\n",
    "    \n",
    "train_datagen.fit(trainDataArray)\n",
    "test_datagen.fit(trainDataArray)\n",
    "\n",
    "datasetPath = \"../data/imagesDataset_512x256_8/train/\"\n",
    "valDataPath = \"../data/imagesDataset_512x256_8/validation/\"\n",
    "classList = ['0-noise','2-narrowband','3-narrowbanddrd','5-squiggle']\n",
    "batch_size = 8\n",
    "train_generator = train_datagen.flow_from_directory(directory=datasetPath,batch_size=batch_size,class_mode='categorical',\n",
    "                            classes=classList,target_size=(256,512))\n",
    "validation_generator = test_datagen.flow_from_directory(directory=valDataPath,batch_size=batch_size,\n",
    "        class_mode='categorical',classes=classList,target_size=(256,512))"
   ]
  },
  {
   "cell_type": "code",
   "execution_count": null,
   "metadata": {},
   "outputs": [
    {
     "name": "stdout",
     "output_type": "stream",
     "text": [
      "Epoch 1/50\n",
      "500/500 [==============================] - 335s - loss: 1.8596 - acc: 0.3307 - val_loss: 1.1669 - val_acc: 0.4360\n",
      "Epoch 2/50\n",
      "500/500 [==============================] - 328s - loss: 1.3996 - acc: 0.3815 - val_loss: 1.1071 - val_acc: 0.5020\n",
      "Epoch 3/50\n",
      "500/500 [==============================] - 327s - loss: 1.3760 - acc: 0.3987 - val_loss: 1.2119 - val_acc: 0.3541\n",
      "Epoch 4/50\n",
      "500/500 [==============================] - 327s - loss: 1.3386 - acc: 0.3960 - val_loss: 1.0628 - val_acc: 0.4930\n",
      "Epoch 5/50\n",
      "500/500 [==============================] - 327s - loss: 1.2937 - acc: 0.4320 - val_loss: 1.0119 - val_acc: 0.5231\n",
      "Epoch 6/50\n",
      "500/500 [==============================] - 327s - loss: 1.2951 - acc: 0.4195 - val_loss: 1.2124 - val_acc: 0.5101\n",
      "Epoch 7/50\n",
      "500/500 [==============================] - 327s - loss: 1.2938 - acc: 0.4300 - val_loss: 1.3037 - val_acc: 0.4650\n",
      "Epoch 8/50\n",
      "500/500 [==============================] - 327s - loss: 1.2588 - acc: 0.4460 - val_loss: 0.9948 - val_acc: 0.5670\n",
      "Epoch 9/50\n",
      "500/500 [==============================] - 327s - loss: 1.2665 - acc: 0.4415 - val_loss: 0.9683 - val_acc: 0.5594\n",
      "Epoch 10/50\n",
      "500/500 [==============================] - 327s - loss: 1.2341 - acc: 0.4447 - val_loss: 1.0101 - val_acc: 0.4970\n",
      "Epoch 11/50\n",
      "500/500 [==============================] - 327s - loss: 1.2315 - acc: 0.4487 - val_loss: 1.5518 - val_acc: 0.3250\n",
      "Epoch 12/50\n",
      "500/500 [==============================] - 327s - loss: 1.2342 - acc: 0.4485 - val_loss: 1.0918 - val_acc: 0.4849\n",
      "Epoch 13/50\n",
      "500/500 [==============================] - 327s - loss: 1.2274 - acc: 0.4500 - val_loss: 0.9466 - val_acc: 0.5684\n",
      "Epoch 14/50\n",
      " 76/500 [===>..........................] - ETA: 231s - loss: 1.2434 - acc: 0.4276"
     ]
    }
   ],
   "source": [
    "epochs = 50\n",
    "nb_train_samples = 4000\n",
    "nb_validation_samples = 1000\n",
    "model.fit_generator(\n",
    "    train_generator,\n",
    "    steps_per_epoch=nb_train_samples // batch_size,\n",
    "    epochs=epochs,\n",
    "    validation_data=validation_generator,\n",
    "    validation_steps=nb_validation_samples // batch_size,\n",
    "    verbose=1)\n"
   ]
  },
  {
   "cell_type": "code",
   "execution_count": null,
   "metadata": {
    "collapsed": true
   },
   "outputs": [],
   "source": [
    "model.predict_generator(validation_generator,verbose=1,validation_steps=nb_validation_samples// batch_size)"
   ]
  },
  {
   "cell_type": "code",
   "execution_count": null,
   "metadata": {
    "collapsed": true
   },
   "outputs": [],
   "source": [
    "# dimensions of our images.\n",
    "\n",
    "top_model_weights_path = 'bottleneck_fc_model.h5'\n",
    "train_data_dir = 'data/train'\n",
    "validation_data_dir = 'data/validation'\n",
    "nb_train_samples = 2000\n",
    "nb_validation_samples = 800\n",
    "epochs = 50\n",
    "batch_size = 16\n",
    "\n",
    "\n",
    "def save_bottlebeck_features():\n",
    "    datagen = ImageDataGenerator(rescale=1. / 255)\n",
    "\n",
    "    # build the VGG16 network\n",
    "    model = applications.VGG16(include_top=False, weights='imagenet')\n",
    "\n",
    "    generator = datagen.flow_from_directory(\n",
    "        train_data_dir,\n",
    "        target_size=(img_width, img_height),\n",
    "        batch_size=batch_size,\n",
    "        class_mode=None,\n",
    "        shuffle=False)\n",
    "    bottleneck_features_train = model.predict_generator(\n",
    "        generator, nb_train_samples // batch_size)\n",
    "    np.save(open('bottleneck_features_train.npy', 'w'),\n",
    "            bottleneck_features_train)\n",
    "\n",
    "    generator = datagen.flow_from_directory(\n",
    "        validation_data_dir,\n",
    "        target_size=(img_width, img_height),\n",
    "        batch_size=batch_size,\n",
    "        class_mode=None,\n",
    "        shuffle=False)\n",
    "    bottleneck_features_validation = model.predict_generator(\n",
    "        generator, nb_validation_samples // batch_size)\n",
    "    np.save(open('bottleneck_features_validation.npy', 'w'),\n",
    "            bottleneck_features_validation)\n",
    "\n",
    "\n",
    "def train_top_model():\n",
    "    train_data = np.load(open('bottleneck_features_train.npy'))\n",
    "    train_labels = np.array(\n",
    "        [0] * (nb_train_samples / 2) + [1] * (nb_train_samples / 2))\n",
    "\n",
    "    validation_data = np.load(open('bottleneck_features_validation.npy'))\n",
    "    validation_labels = np.array(\n",
    "        [0] * (nb_validation_samples / 2) + [1] * (nb_validation_samples / 2))\n",
    "\n",
    "    model = Sequential()\n",
    "    model.add(Flatten(input_shape=train_data.shape[1:]))\n",
    "    model.add(Dense(256, activation='relu'))\n",
    "    model.add(Dropout(0.5))\n",
    "    model.add(Dense(1, activation='sigmoid'))\n",
    "\n",
    "    model.compile(optimizer='rmsprop',\n",
    "                  loss='binary_crossentropy', metrics=['accuracy'])\n",
    "\n",
    "    model.fit(train_data, train_labels,\n",
    "              epochs=epochs,\n",
    "              batch_size=batch_size,\n",
    "              validation_data=(validation_data, validation_labels))\n",
    "    model.save_weights(top_model_weights_path)"
   ]
  }
 ],
 "metadata": {
  "kernelspec": {
   "display_name": "Python 2",
   "language": "python",
   "name": "python2"
  },
  "language_info": {
   "codemirror_mode": {
    "name": "ipython",
    "version": 2
   },
   "file_extension": ".py",
   "mimetype": "text/x-python",
   "name": "python",
   "nbconvert_exporter": "python",
   "pygments_lexer": "ipython2",
   "version": "2.7.13"
  }
 },
 "nbformat": 4,
 "nbformat_minor": 2
}

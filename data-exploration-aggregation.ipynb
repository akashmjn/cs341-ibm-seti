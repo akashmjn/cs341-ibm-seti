{
 "cells": [
  {
   "cell_type": "code",
   "execution_count": 2,
   "metadata": {
    "collapsed": false
   },
   "outputs": [],
   "source": [
    "import requests\n",
    "import numpy as np\n",
    "import json\n",
    "import pandas as pd\n",
    "import ibmseti\n",
    "import collections\n",
    "import scipy.io\n",
    "import matplotlib.pyplot as plt"
   ]
  },
  {
   "cell_type": "code",
   "execution_count": 3,
   "metadata": {
    "collapsed": true
   },
   "outputs": [],
   "source": [
    "r = requests.get('https://dal.objectstorage.open.softlayer.com/v1/AUTH_cdbef52bdf7a449c96936e1071f0a46b/simsignals_files/public_list_headers_3april_2017.txt')"
   ]
  },
  {
   "cell_type": "code",
   "execution_count": 4,
   "metadata": {
    "collapsed": false
   },
   "outputs": [
    {
     "data": {
      "text/plain": [
       "{u'file_name': u'00069203-0824-4136-9c99-b9f68672f23d.dat',\n",
       " u'signal_classification': u'squigglesquarepulsednarrowband',\n",
       " u'uuid': u'00069203-0824-4136-9c99-b9f68672f23d'}"
      ]
     },
     "execution_count": 4,
     "metadata": {},
     "output_type": "execute_result"
    }
   ],
   "source": [
    "fileList = r.text.split('\\n')[:-1]\n",
    "fileListJSON = [json.loads(entry) for entry in fileList]\n",
    "fileListJSON[0]"
   ]
  },
  {
   "cell_type": "code",
   "execution_count": 5,
   "metadata": {
    "collapsed": true
   },
   "outputs": [],
   "source": [
    "# Taking a subset of signals to download and play around with\n",
    "subset = dict.fromkeys(list(np.unique([ str(file['signal_classification']) for file in fileListJSON])))\n",
    "for key in subset.keys(): subset[key] = []\n",
    "nSignals = 10\n",
    "i = 0\n",
    "while any( [len(v)<nSignals for v in subset.values()] ):\n",
    "    current = (str(fileListJSON[i]['signal_classification']),str(fileListJSON[i]['file_name']))\n",
    "    if len(subset[current[0]])<nSignals:\n",
    "        subset[current[0]].append(current[1])\n",
    "    i = i + 1"
   ]
  },
  {
   "cell_type": "code",
   "execution_count": 6,
   "metadata": {
    "collapsed": false
   },
   "outputs": [
    {
     "name": "stdout",
     "output_type": "stream",
     "text": [
      "noise\n",
      "squiggle\n",
      "narrowbanddrd\n",
      "brightpixel\n",
      "narrowband\n",
      "squigglesquarepulsednarrowband\n",
      "squarepulsednarrowband\n"
     ]
    }
   ],
   "source": [
    "# For each type, download all files, and extract and save complex signal and spectrogram\n",
    "base_url = 'https://dal.objectstorage.open.softlayer.com/v1/AUTH_cdbef52bdf7a449c96936e1071f0a46b'\n",
    "container = 'simsignals'\n",
    "\n",
    "subsetComplexSignals = collections.defaultdict(list)\n",
    "subsetSpectrograms = collections.defaultdict(list)\n",
    "\n",
    "for (signalType,signalList) in subset.items():\n",
    "    print signalType\n",
    "    for fname in signalList:\n",
    "        r = requests.get('{}/{}/{}'.format(base_url,container,fname))\n",
    "        aca = ibmseti.compamp.SimCompamp(r.content)\n",
    "        subsetComplexSignals[signalType].append(aca.complex_data().reshape(129,6144))\n",
    "        subsetSpectrograms[signalType].append(aca.get_spectrogram())"
   ]
  },
  {
   "cell_type": "code",
   "execution_count": null,
   "metadata": {
    "collapsed": true
   },
   "outputs": [],
   "source": [
    "# Saving numpy files \n",
    "np.save('complexSignalsSubset.npy',subsetComplexSignals)\n",
    "np.save('specSubset.npy',subsetSpectrograms)\n",
    "\n",
    "# Saving to separate matlab files for each signal type\n",
    "# for key in subset.keys():\n",
    "#     a = np.stack(subsetComplexSignals[key])\n",
    "#     b = np.stack(subsetSpectrograms[key])\n",
    "#     scipy.io.savemat('{}{}'.format(key,'Signal.mat'),{'{}{}'.format(key,'Signal'):a})\n",
    "#     scipy.io.savemat('{}{}'.format(key,'Spec.mat'),{'{}{}'.format(key,'Spec'):b})"
   ]
  },
  {
   "cell_type": "code",
   "execution_count": null,
   "metadata": {
    "collapsed": true
   },
   "outputs": [],
   "source": [
    "# Loading in saved sample data files \n",
    "np.save('complexSignalsSubset.npy',subsetComplexSignals)\n",
    "np.save('specSubset.npy',subsetSpectrograms)"
   ]
  },
  {
   "cell_type": "code",
   "execution_count": 1,
   "metadata": {
    "collapsed": false
   },
   "outputs": [
    {
     "ename": "NameError",
     "evalue": "name 'subsetSpectrograms' is not defined",
     "output_type": "error",
     "traceback": [
      "\u001b[0;31m---------------------------------------------------------------------------\u001b[0m",
      "\u001b[0;31mNameError\u001b[0m                                 Traceback (most recent call last)",
      "\u001b[0;32m<ipython-input-1-fe918d62de43>\u001b[0m in \u001b[0;36m<module>\u001b[0;34m()\u001b[0m\n\u001b[0;32m----> 1\u001b[0;31m \u001b[0mspec\u001b[0m \u001b[0;34m=\u001b[0m \u001b[0msubsetSpectrograms\u001b[0m\u001b[0;34m[\u001b[0m\u001b[0;34m'squigglesquarepulsednarrowband'\u001b[0m\u001b[0;34m]\u001b[0m\u001b[0;34m[\u001b[0m\u001b[0;36m2\u001b[0m\u001b[0;34m]\u001b[0m\u001b[0;34m\u001b[0m\u001b[0m\n\u001b[0m\u001b[1;32m      2\u001b[0m \u001b[0mfig\u001b[0m\u001b[0;34m,\u001b[0m \u001b[0max\u001b[0m \u001b[0;34m=\u001b[0m \u001b[0mplt\u001b[0m\u001b[0;34m.\u001b[0m\u001b[0msubplots\u001b[0m\u001b[0;34m(\u001b[0m\u001b[0mfigsize\u001b[0m\u001b[0;34m=\u001b[0m\u001b[0;34m(\u001b[0m\u001b[0;36m20\u001b[0m\u001b[0;34m,\u001b[0m \u001b[0;36m10\u001b[0m\u001b[0;34m)\u001b[0m\u001b[0;34m)\u001b[0m\u001b[0;34m\u001b[0m\u001b[0m\n\u001b[1;32m      3\u001b[0m \u001b[0max\u001b[0m\u001b[0;34m.\u001b[0m\u001b[0mimshow\u001b[0m\u001b[0;34m(\u001b[0m\u001b[0mnp\u001b[0m\u001b[0;34m.\u001b[0m\u001b[0mlog\u001b[0m\u001b[0;34m(\u001b[0m\u001b[0mspec\u001b[0m\u001b[0;34m)\u001b[0m\u001b[0;34m,\u001b[0m \u001b[0maspect\u001b[0m \u001b[0;34m=\u001b[0m \u001b[0;36m0.5\u001b[0m\u001b[0;34m*\u001b[0m\u001b[0mfloat\u001b[0m\u001b[0;34m(\u001b[0m\u001b[0mspec\u001b[0m\u001b[0;34m.\u001b[0m\u001b[0mshape\u001b[0m\u001b[0;34m[\u001b[0m\u001b[0;36m1\u001b[0m\u001b[0;34m]\u001b[0m\u001b[0;34m)\u001b[0m \u001b[0;34m/\u001b[0m \u001b[0mspec\u001b[0m\u001b[0;34m.\u001b[0m\u001b[0mshape\u001b[0m\u001b[0;34m[\u001b[0m\u001b[0;36m0\u001b[0m\u001b[0;34m]\u001b[0m\u001b[0;34m)\u001b[0m\u001b[0;34m\u001b[0m\u001b[0m\n\u001b[1;32m      4\u001b[0m \u001b[0mplt\u001b[0m\u001b[0;34m.\u001b[0m\u001b[0mshow\u001b[0m\u001b[0;34m(\u001b[0m\u001b[0;34m)\u001b[0m\u001b[0;34m\u001b[0m\u001b[0m\n",
      "\u001b[0;31mNameError\u001b[0m: name 'subsetSpectrograms' is not defined"
     ]
    }
   ],
   "source": [
    "spec = subsetSpectrograms['squigglesquarepulsednarrowband'][2]\n",
    "fig, ax = plt.subplots(figsize=(20, 10))\n",
    "ax.imshow(np.log(spec), aspect = 0.5*float(spec.shape[1]) / spec.shape[0])\n",
    "plt.show()"
   ]
  },
  {
   "cell_type": "code",
   "execution_count": 9,
   "metadata": {
    "collapsed": true
   },
   "outputs": [],
   "source": []
  },
  {
   "cell_type": "code",
   "execution_count": null,
   "metadata": {
    "collapsed": true
   },
   "outputs": [],
   "source": []
  }
 ],
 "metadata": {
  "anaconda-cloud": {},
  "kernelspec": {
   "display_name": "Python [conda env:cs341]",
   "language": "python",
   "name": "conda-env-cs341-py"
  },
  "language_info": {
   "codemirror_mode": {
    "name": "ipython",
    "version": 2
   },
   "file_extension": ".py",
   "mimetype": "text/x-python",
   "name": "python",
   "nbconvert_exporter": "python",
   "pygments_lexer": "ipython2",
   "version": "2.7.12"
  }
 },
 "nbformat": 4,
 "nbformat_minor": 2
}
